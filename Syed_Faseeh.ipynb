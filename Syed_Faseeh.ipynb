{
  "nbformat": 4,
  "nbformat_minor": 0,
  "metadata": {
    "colab": {
      "provenance": [],
      "authorship_tag": "ABX9TyNUOQ8BJZJ+vSDIWAlM6RFD",
      "include_colab_link": true
    },
    "kernelspec": {
      "name": "python3",
      "display_name": "Python 3"
    },
    "language_info": {
      "name": "python"
    }
  },
  "cells": [
    {
      "cell_type": "markdown",
      "metadata": {
        "id": "view-in-github",
        "colab_type": "text"
      },
      "source": [
        "<a href=\"https://colab.research.google.com/github/syefas24/AI-25590/blob/main/Syed_Faseeh.ipynb\" target=\"_parent\"><img src=\"https://colab.research.google.com/assets/colab-badge.svg\" alt=\"Open In Colab\"/></a>"
      ]
    },
    {
      "cell_type": "code",
      "execution_count": null,
      "metadata": {
        "id": "sR_we0C6nhK7"
      },
      "outputs": [],
      "source": [
        "#!/usr/bin/python3\n",
        "\n",
        "# Getting all the Required Libraries\n",
        "import numpy as np\n",
        "import pandas as pd\n",
        "from sklearn.model_selection import train_test_split \n",
        "from sklearn.ensemble import GradientBoostingRegressor\n",
        "import joblib\n",
        "\n",
        "# Getting the Dataset into the Program\n",
        "original = pd.read_csv('dataset.csv')\n",
        "\n",
        "'''\n",
        "Since the Dataset has many Null Values in the 'Volumes' Column.\n",
        "Null Values will be predicted taking Target Variable as a Feature.\n",
        "Volumes Prediction (Column with Null Values)\n",
        "'''\n",
        "\n",
        "# Dataset Used is the Raw Dataset\n",
        "df_train = original.copy()\n",
        "\n",
        "# Normalizing Outliers using Z-Score\n",
        "df_train['lsg_4'] = (df_train['lsg_4'] - df_train['lsg_4'].mean()) / df_train['lsg_4'].std()\n",
        "df_train['lsg_4'] = np.c_[np.ones(df_train['lsg_4'].shape[0]), df_train['lsg_4']] \n",
        "\n",
        "# Identifying Features and Target Variable\n",
        "features = ['price', 'gift_type', 'gift_category', 'gift_cluster', 'lsg_1', 'lsg_2', 'lsg_3','lsg_4', 'lsg_5', 'lsg_6', 'is_discounted']\n",
        "target = 'volumes'\n",
        "\n",
        "# Slicing the DataFrame to create the Model\n",
        "m = df_train[['volumes', 'price', 'gift_type', 'gift_category', 'gift_cluster', 'lsg_1', 'lsg_2', 'lsg_3','lsg_4', 'lsg_5', 'lsg_6', 'is_discounted']]\n",
        "d = m.dropna()\n",
        "\n",
        "# Data to Train the Model\n",
        "X = d.drop(columns=[target], axis=1)\n",
        "Y = d[target]\n",
        "\n",
        "# Splitting the Data\n",
        "X_train, X_test, Y_train, Y_test = train_test_split(X, Y, test_size=0.3, random_state=0)\n",
        "\n",
        "# Creating the Model (Optimized)\n",
        "model = GradientBoostingRegressor(n_estimators=120, random_state=2, learning_rate=0.378, max_depth=5)\n",
        "model.fit(X_train, Y_train)\n",
        "\n",
        "# Dividing the DataFrame to impute predicted Null Values\n",
        "df_train = original.copy()\n",
        "test = pd.DataFrame(df_train[df_train[target].isnull()])\n",
        "df_train.dropna(inplace=True)\n",
        "\n",
        "# Predicting Null Values in the 'Volumes' Column\n",
        "predictions = model.predict(test[features])\n",
        "\n",
        "# Imputing Predicted Null Values in the Dataset\n",
        "test[target] = predictions\n",
        "frame = [df_train, test]\n",
        "\n",
        "# New Dataset with Predicted Null Values is Ready\n",
        "final = pd.concat(frame)\n",
        "\n",
        "'''\n",
        "Since Null Values have been predicted with High Accuracy,\n",
        "We now have more data to train our Model.\n",
        "Price Prediction (Original Target Variable)\n",
        "'''\n",
        "\n",
        "# Dataset Used is the one with Predicted Null Values\n",
        "df_train = final.copy()\n",
        "\n",
        "# Identifying Features and Target Variable\n",
        "features = ['volumes', 'gift_type', 'gift_category', 'gift_cluster', 'lsg_1', 'lsg_2', 'lsg_3','lsg_4', 'lsg_5', 'lsg_6', 'is_discounted']\n",
        "target = 'price'\n",
        "\n",
        "# Slicing the DataFrame to create the Model\n",
        "m = df_train[['volumes', 'price', 'gift_type', 'gift_category', 'gift_cluster', 'lsg_1', 'lsg_2', 'lsg_3','lsg_4', 'lsg_5', 'lsg_6', 'is_discounted']]\n",
        "d = m.dropna()\n",
        "\n",
        "# Data to Train the Model\n",
        "X = d.drop(columns=[target], axis=1)\n",
        "Y = d[target]\n",
        "\n",
        "# Splitting the Data\n",
        "X_train, X_test, Y_train, Y_test = train_test_split(X, Y, test_size=0.3, random_state=1)\n",
        "\n",
        "# Creating the Model (Optimized)\n",
        "model = GradientBoostingRegressor(n_estimators=135, random_state=18, learning_rate=0.359, max_depth=3)\n",
        "model.fit(X_train, Y_train)"
      ]
    }
  ]
}